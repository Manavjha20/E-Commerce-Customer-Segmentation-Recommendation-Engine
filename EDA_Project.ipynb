{
 "cells": [
  {
   "cell_type": "markdown",
   "id": "b64f7607-40af-423b-890c-3008484a8c79",
   "metadata": {},
   "source": [
    "✅ Project Title:\n",
    "E-commerce Customer Segmentation and Recommendation Engine\n",
    "🎯 Objective:\n",
    "\n",
    "Segment e-commerce customers into meaningful groups and build a simple recommendation engine that suggests products based on customer behavior.\n",
    "\n",
    "📊 Project Breakdown:\n",
    "1️⃣ Data Collection:\n",
    "\n",
    "Dataset Source:\n",
    "Use publicly available datasets like:\n",
    "👉 https://www.kaggle.com/datasets/ertugrulesol/online-retail-data?resource=download\n",
    "\n",
    "Example Dataset:\n",
    "\n",
    "Online Retail dataset with customer transactions, product details, and customer demographics.\n",
    "\n",
    "2️⃣ Exploratory Data Analysis (EDA) & Feature Engineering:\n",
    "\n",
    "Analyze data distributions, missing values, and correlations.\n",
    "\n",
    "Key Features to Engineer:\n",
    "\n",
    "Customer Lifetime Value (CLV)\n",
    "\n",
    "Average Order Value (AOV)\n",
    "\n",
    "Purchase Frequency\n",
    "\n",
    "Recency (Days since last purchase)\n",
    "\n",
    "Visualizations:\n",
    "\n",
    "Histograms of purchase amounts\n",
    "\n",
    "Correlation heatmaps\n",
    "\n",
    "Distribution of customer purchases by geography\n",
    "\n",
    "3️⃣ Customer Segmentation:\n",
    "\n",
    "Algorithm:\n",
    "Use K-Means Clustering to segment customers into groups.\n",
    "\n",
    "Steps:\n",
    "\n",
    "Normalize features.\n",
    "\n",
    "Find optimal number of clusters (Elbow Method or Silhouette Score).\n",
    "\n",
    "Apply clustering and assign customer segments.\n",
    "\n",
    "Example Segments:\n",
    "\n",
    "High-value loyal customers\n",
    "\n",
    "New shoppers\n",
    "\n",
    "At-risk customers\n",
    "\n",
    "Visualization:\n",
    "\n",
    "Cluster scatter plots\n",
    "\n",
    "Segment summary tables\n",
    "\n",
    "4️⃣ Recommendation Engine:\n",
    "\n",
    "Approach:\n",
    "\n",
    "Simple Content-Based Filtering or Collaborative Filtering approach.\n",
    "\n",
    "Example:\n",
    "\n",
    "For content-based: Recommend products similar to customer’s past purchases based on product features (category, price range).\n",
    "\n",
    "For collaborative filtering: Recommend products popular among customers in the same segment.\n",
    "\n",
    "Output:\n",
    "\n",
    "Top 5 product recommendations per customer.\n",
    "\n",
    "5️⃣ Visualization Dashboard:\n",
    "\n",
    "Tool: Power BI or Tableau\n",
    "\n",
    "Dashboard Sections:\n",
    "\n",
    "Customer Segments Overview (size, average revenue per segment)\n",
    "\n",
    "Purchase behavior insights\n",
    "\n",
    "Performance of recommendation engine (e.g., precision or accuracy if evaluated)\n",
    "\n",
    "Interactive filters (e.g., by geography, segment)\n",
    "\n",
    "✅ Project Outcome:\n",
    "\n",
    "Demonstrated ability to process raw e-commerce data into actionable insights.\n",
    "\n",
    "Built customer segmentation models using unsupervised learning.\n",
    "\n",
    "Developed a basic recommendation system offering personalized suggestions.\n",
    "\n",
    "Delivered a dashboard providing clear, interactive insights."
   ]
  },
  {
   "cell_type": "markdown",
   "id": "7d0c0a72-fa46-4fda-a055-a9cbafc5b269",
   "metadata": {},
   "source": [
    "## Data Loading and Overview."
   ]
  },
  {
   "cell_type": "code",
   "execution_count": 1,
   "id": "7536442d-e05a-4d8d-90f4-65f9b7d534cc",
   "metadata": {},
   "outputs": [
    {
     "name": "stdout",
     "output_type": "stream",
     "text": [
      "   customer_id  order_date  product_id  category_id       category_name  \\\n",
      "0        13542  2024-12-17         784           10         Electronics   \n",
      "1        23188  2024-06-01         682           50   Sports & Outdoors   \n",
      "2        55098  2025-02-04         684           50   Sports & Outdoors   \n",
      "3        65208  2024-10-28         204           40  Books & Stationery   \n",
      "4        63872  2024-05-10         202           20             Fashion   \n",
      "\n",
      "  product_name  quantity   price payment_method            city  review_score  \\\n",
      "0   Smartphone         2  373.36    Credit Card  New Oliviaberg           1.0   \n",
      "1  Soccer Ball         5  299.34    Credit Card    Port Matthew           NaN   \n",
      "2         Tent         5   23.00    Credit Card      West Sarah           5.0   \n",
      "3   Story Book         2  230.11  Bank Transfer  Hernandezburgh           5.0   \n",
      "4        Skirt         4  176.72    Credit Card    Jenkinshaven           1.0   \n",
      "\n",
      "  gender  age  \n",
      "0      F   56  \n",
      "1      M   59  \n",
      "2      F   64  \n",
      "3      M   34  \n",
      "4      F   33  \n",
      "<class 'pandas.core.frame.DataFrame'>\n",
      "RangeIndex: 1000 entries, 0 to 999\n",
      "Data columns (total 13 columns):\n",
      " #   Column          Non-Null Count  Dtype  \n",
      "---  ------          --------------  -----  \n",
      " 0   customer_id     1000 non-null   int64  \n",
      " 1   order_date      1000 non-null   object \n",
      " 2   product_id      1000 non-null   int64  \n",
      " 3   category_id     1000 non-null   int64  \n",
      " 4   category_name   1000 non-null   object \n",
      " 5   product_name    1000 non-null   object \n",
      " 6   quantity        1000 non-null   int64  \n",
      " 7   price           1000 non-null   float64\n",
      " 8   payment_method  1000 non-null   object \n",
      " 9   city            1000 non-null   object \n",
      " 10  review_score    799 non-null    float64\n",
      " 11  gender          897 non-null    object \n",
      " 12  age             1000 non-null   int64  \n",
      "dtypes: float64(2), int64(5), object(6)\n",
      "memory usage: 101.7+ KB\n",
      "None\n"
     ]
    }
   ],
   "source": [
    "import pandas as pd\n",
    "\n",
    "# Load the dataset\n",
    "file_path = 'synthetic_online_retail_data.csv'\n",
    "data = pd.read_csv(file_path)\n",
    "\n",
    "# Preview dataset\n",
    "print(data.head())\n",
    "print(data.info())\n"
   ]
  },
  {
   "cell_type": "markdown",
   "id": "fc670a34-d4f8-410b-861b-a5f006718bbb",
   "metadata": {},
   "source": [
    "## Data Cleaning"
   ]
  },
  {
   "cell_type": "markdown",
   "id": "802fc0cb-9c62-4db6-80a4-405d1ad1ae5c",
   "metadata": {},
   "source": [
    "### Convert `order_date` to datetime type"
   ]
  },
  {
   "cell_type": "code",
   "execution_count": 2,
   "id": "0142bcdd-0256-4482-afe5-34cfa23211f4",
   "metadata": {},
   "outputs": [],
   "source": [
    "data['order_date'] = pd.to_datetime(data['order_date'])"
   ]
  },
  {
   "cell_type": "code",
   "execution_count": 4,
   "id": "441fa9f7-4464-4d9c-a710-fa0dda971be3",
   "metadata": {},
   "outputs": [],
   "source": [
    "### # Fill missing 'gender' values with 'Unknown'\n",
    "data['gender'] = data['gender'].fillna('Unknown')\n",
    "\n",
    "# Fill missing 'review_score' with median value\n",
    "data['review_score'] = data['review_score'].fillna(data['review_score'].median())"
   ]
  },
  {
   "cell_type": "markdown",
   "id": "547a62e2-33f0-45de-aefd-cd10a7a68aba",
   "metadata": {},
   "source": [
    "## Feature Engineering"
   ]
  },
  {
   "cell_type": "markdown",
   "id": "406be990-89ce-4117-a0b0-0aec573da657",
   "metadata": {},
   "source": [
    "### Calculate Total Order Value"
   ]
  },
  {
   "cell_type": "code",
   "execution_count": 5,
   "id": "0718b8a7-bfa4-4bc7-b89f-271e4495a2e3",
   "metadata": {},
   "outputs": [],
   "source": [
    "data['total_order_value'] = data['quantity'] * data['price']"
   ]
  },
  {
   "cell_type": "markdown",
   "id": "4994eb34-090b-4f36-86da-4ea3dd11aafe",
   "metadata": {},
   "source": [
    "### Aggregate data per customer"
   ]
  },
  {
   "cell_type": "code",
   "execution_count": 7,
   "id": "f305fe94-86b2-4676-86c8-cb9bd6c5e24b",
   "metadata": {},
   "outputs": [],
   "source": [
    "customer_agg = data.groupby('customer_id').agg({\n",
    "    'order_date': ['max', 'min', 'count'],    # Last order, first order, total orders\n",
    "    'total_order_value': 'sum',              # Customer Lifetime Value (CLV)\n",
    "    'age': 'first',\n",
    "    'gender': 'first',\n",
    "    'review_score': 'mean'                  # Average review score\n",
    "}).reset_index()\n",
    "\n",
    "# Rename columns\n",
    "customer_agg.columns = ['customer_id', 'last_order_date', 'first_order_date', 'purchase_count',\n",
    "                        'total_spent', 'age', 'gender', 'avg_review_score']\n"
   ]
  },
  {
   "cell_type": "markdown",
   "id": "4955c35f-96ab-4cf2-9a8f-6c13cee02d97",
   "metadata": {},
   "source": [
    "### Calculate Recency and CLV"
   ]
  },
  {
   "cell_type": "code",
   "execution_count": 9,
   "id": "d166bc03-0447-4843-a5c9-e4f809254ebb",
   "metadata": {},
   "outputs": [],
   "source": [
    "from datetime import datetime\n",
    "\n",
    "current_date = datetime.strptime('2025-09-10', '%Y-%m-%d')\n",
    "\n",
    "# Recency: Days since last purchase\n",
    "customer_agg['recency'] = (current_date - customer_agg['last_order_date']).dt.days\n",
    "\n",
    "# CLV (Customer Lifetime Value) approximated by total spent\n",
    "customer_agg['clv'] = customer_agg['total_spent']\n"
   ]
  },
  {
   "cell_type": "markdown",
   "id": "2d315ba5-686b-479c-80e0-0e6c1f468445",
   "metadata": {},
   "source": [
    "## Customer Segmentation (K-Means Clustering)"
   ]
  },
  {
   "cell_type": "markdown",
   "id": "dd88c238-1476-4b96-ae05-55517972b276",
   "metadata": {},
   "source": [
    "### Select Features and Normalize"
   ]
  },
  {
   "cell_type": "code",
   "execution_count": 10,
   "id": "0b724e87-61fc-488d-96af-6b675f7ca054",
   "metadata": {},
   "outputs": [],
   "source": [
    "from sklearn.preprocessing import StandardScaler\n",
    "\n",
    "features = customer_agg[['purchase_count', 'total_spent', 'recency', 'avg_review_score', 'age']]\n",
    "\n",
    "scaler = StandardScaler()\n",
    "X_scaled = scaler.fit_transform(features)"
   ]
  },
  {
   "cell_type": "markdown",
   "id": "50d61aa0-0a6e-44fa-8a05-de2c639512bd",
   "metadata": {},
   "source": [
    "Normalizing data ensures fair distance-based clustering without bias toward larger numerical ranges."
   ]
  },
  {
   "cell_type": "markdown",
   "id": "cbad417e-2f89-49ae-ba5e-f8144856f748",
   "metadata": {},
   "source": [
    "### Apply K-Means Clustering"
   ]
  },
  {
   "cell_type": "code",
   "execution_count": 11,
   "id": "3151279b-bb2a-482a-8d71-4a40e78cdbee",
   "metadata": {},
   "outputs": [],
   "source": [
    "from sklearn.cluster import KMeans\n",
    "\n",
    "kmeans = KMeans(n_clusters=3, random_state=42)\n",
    "customer_agg['segment'] = kmeans.fit_predict(X_scaled)"
   ]
  },
  {
   "cell_type": "markdown",
   "id": "a3d8cd1b-df19-40b3-b9c4-de8fb8706b90",
   "metadata": {},
   "source": [
    "Assigns each customer to a cluster based on behavioral patterns."
   ]
  },
  {
   "cell_type": "markdown",
   "id": "a3cbaeff-a531-4fcd-8128-8aa612d12d80",
   "metadata": {},
   "source": [
    "## Simple Recommendation System (Content-Based)"
   ]
  },
  {
   "cell_type": "markdown",
   "id": "27e42bb0-392a-43b5-909c-4c7d151e8479",
   "metadata": {},
   "source": [
    "### Build Product Profile (Most Popular Product Per Category)"
   ]
  },
  {
   "cell_type": "code",
   "execution_count": 12,
   "id": "dfdd239e-3697-47e4-bc6f-6d466f34f7b6",
   "metadata": {},
   "outputs": [],
   "source": [
    "product_profiles = data.groupby('category_name')['product_name'].agg(lambda x: x.mode()[0]).reset_index()\n",
    "product_profiles.columns = ['category_name', 'top_product']"
   ]
  },
  {
   "cell_type": "markdown",
   "id": "e7162c50-8402-4120-9051-af527f4585c8",
   "metadata": {},
   "source": [
    "### Find Most Purchased Category Per Customer"
   ]
  },
  {
   "cell_type": "code",
   "execution_count": 13,
   "id": "0c488e59-e607-4e7d-af84-3f35eb0b8e74",
   "metadata": {},
   "outputs": [],
   "source": [
    "customer_category = data.groupby(['customer_id', 'category_name'])['quantity'].sum().reset_index()\n",
    "\n",
    "most_purchased_category = customer_category.loc[customer_category.groupby('customer_id')['quantity'].idxmax()]"
   ]
  },
  {
   "cell_type": "markdown",
   "id": "ea7d4156-3ab9-4974-b38f-7fc29bf4ae7a",
   "metadata": {},
   "source": [
    "### Merge Recommendations"
   ]
  },
  {
   "cell_type": "code",
   "execution_count": 14,
   "id": "608e691c-20a2-4eea-b74a-c1d982da7319",
   "metadata": {},
   "outputs": [],
   "source": [
    "recommendations = most_purchased_category.merge(product_profiles, on='category_name')[['customer_id', 'top_product']]\n",
    "\n",
    "# Add recommendation back to customer aggregation\n",
    "customer_agg = customer_agg.merge(recommendations, on='customer_id', how='left')"
   ]
  },
  {
   "cell_type": "markdown",
   "id": "b54e50fb-5f4b-4715-ab06-eddbc22a1afe",
   "metadata": {},
   "source": [
    "## Final Sample Output"
   ]
  },
  {
   "cell_type": "code",
   "execution_count": 15,
   "id": "fe1732ce-bb97-402b-8acc-19d44849d8df",
   "metadata": {},
   "outputs": [
    {
     "name": "stdout",
     "output_type": "stream",
     "text": [
      "   customer_id last_order_date first_order_date  purchase_count  total_spent  \\\n",
      "0        10201      2024-10-14       2024-10-14               1       624.84   \n",
      "1        10211      2024-07-23       2024-07-23               1        65.02   \n",
      "2        10254      2024-09-10       2024-09-10               1        70.93   \n",
      "3        10299      2024-11-27       2024-11-27               1       815.76   \n",
      "4        10403      2024-05-03       2024-05-03               1      1319.35   \n",
      "\n",
      "   age   gender  avg_review_score  recency      clv  segment top_product  \n",
      "0   23  Unknown               4.0      331   624.84        1  Smartphone  \n",
      "1   25        F               5.0      414    65.02        1     Blanket  \n",
      "2   73        M               3.0      365    70.93        0     Blanket  \n",
      "3   33        F               5.0      287   815.76        1       Pants  \n",
      "4   65        M               4.0      495  1319.35        0  Smartphone  \n"
     ]
    }
   ],
   "source": [
    "print(customer_agg.head())"
   ]
  },
  {
   "cell_type": "code",
   "execution_count": 16,
   "id": "13c757b7-baef-4cc4-848e-add12cfb2353",
   "metadata": {},
   "outputs": [],
   "source": [
    "customer_agg.to_csv('customer_segmentation_recommendations.csv', index=False)"
   ]
  },
  {
   "cell_type": "code",
   "execution_count": null,
   "id": "e38a0e01-290c-494b-9985-76bc552f7b06",
   "metadata": {},
   "outputs": [],
   "source": []
  }
 ],
 "metadata": {
  "kernelspec": {
   "display_name": "Python 3 (ipykernel)",
   "language": "python",
   "name": "python3"
  },
  "language_info": {
   "codemirror_mode": {
    "name": "ipython",
    "version": 3
   },
   "file_extension": ".py",
   "mimetype": "text/x-python",
   "name": "python",
   "nbconvert_exporter": "python",
   "pygments_lexer": "ipython3",
   "version": "3.12.7"
  }
 },
 "nbformat": 4,
 "nbformat_minor": 5
}
